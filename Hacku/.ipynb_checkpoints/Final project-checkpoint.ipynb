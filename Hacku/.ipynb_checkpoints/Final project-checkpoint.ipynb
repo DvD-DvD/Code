{
 "cells": [
  {
   "cell_type": "code",
   "execution_count": 1,
   "metadata": {},
   "outputs": [
    {
     "ename": "ModuleNotFoundError",
     "evalue": "No module named 'cv2'",
     "output_type": "error",
     "traceback": [
      "\u001b[1;31m---------------------------------------------------------------------------\u001b[0m",
      "\u001b[1;31mModuleNotFoundError\u001b[0m                       Traceback (most recent call last)",
      "\u001b[1;32m<ipython-input-1-4664fe0a6180>\u001b[0m in \u001b[0;36m<module>\u001b[1;34m\u001b[0m\n\u001b[1;32m----> 1\u001b[1;33m \u001b[1;32mimport\u001b[0m \u001b[0mcv2\u001b[0m\u001b[1;33m\u001b[0m\u001b[1;33m\u001b[0m\u001b[0m\n\u001b[0m\u001b[0;32m      2\u001b[0m \u001b[1;33m\u001b[0m\u001b[0m\n\u001b[0;32m      3\u001b[0m \u001b[1;32mimport\u001b[0m \u001b[0msys\u001b[0m\u001b[1;33m\u001b[0m\u001b[1;33m\u001b[0m\u001b[0m\n\u001b[0;32m      4\u001b[0m \u001b[1;32mimport\u001b[0m \u001b[0mspotipy\u001b[0m\u001b[1;33m\u001b[0m\u001b[1;33m\u001b[0m\u001b[0m\n\u001b[0;32m      5\u001b[0m \u001b[1;32mimport\u001b[0m \u001b[0mspotipy\u001b[0m\u001b[1;33m.\u001b[0m\u001b[0mutil\u001b[0m \u001b[1;32mas\u001b[0m \u001b[0mutil\u001b[0m\u001b[1;33m\u001b[0m\u001b[1;33m\u001b[0m\u001b[0m\n",
      "\u001b[1;31mModuleNotFoundError\u001b[0m: No module named 'cv2'"
     ]
    }
   ],
   "source": [
    "import cv2\n",
    "    \n",
    "import sys\n",
    "import spotipy\n",
    "import spotipy.util as util\n",
    "\n",
    "import random\n",
    "\n",
    "\n",
    "from deepface import DeepFace\n",
    "def mood_predict():\n",
    "    \n",
    "    facecascade=cv2.CascadeClassifier(cv2.data.haarcascades +'haarcascade_frontalface_default.xml')\n",
    "    \n",
    "    cap=cv2.VideoCapture(1)\n",
    "    if not cap.isOpened():\n",
    "        cap=cv2.VideoCapture(0)\n",
    "    if not cap.isOpened():\n",
    "        raise IOError('Cannot open webcam')\n",
    "        \n",
    "    while True:\n",
    "        ret,frame=cap.read()\n",
    "        \n",
    "        result=DeepFace.analyze(frame,actions=['emotion'])\n",
    "        \n",
    "        gray= cv2.cvtColor(frame,cv2.COLOR_BGR2GRAY)\n",
    "        \n",
    "        faces=facecascade.detectMultiScale(gray,1.1,4)\n",
    "        \n",
    "        for (x,y,w,h) in faces:\n",
    "            cv2.rectangle(frame,(x,y),(x+w,y+h),(0,255,0),2)\n",
    "        \n",
    "        font=cv2.FONT_HERSHEY_SIMPLEX\n",
    "    \n",
    "        cv2.putText(frame,result['dominant_emotion'],(100,100),font,5,(0,0,255),2,cv2.LINE_4)\n",
    "        \n",
    "        cv2.imshow(\"original\",frame)\n",
    "        \n",
    "        if cv2.waitKey(2) & 0xFF== ord('q'):\n",
    "            break\n",
    "            \n",
    "    cap.release()\n",
    "    cv2.waitKey(0)\n",
    "    cv2.destroyAllWindows()\n",
    "    \n",
    "    print( result['dominant_emotion'])\n",
    "    return( result['dominant_emotion'])\n",
    "def select_tracks(emotion):\n",
    "    if(emotion=='happy'):\n",
    "        x=sp.recommendations( seed_genres=['happy'],  limit=1, country=None)\n",
    "        for i in range (1):\n",
    "            y=x['tracks'][i]['album']['external_urls']['spotify']\n",
    "            z=sp.album_tracks(y, limit=1)\n",
    "            print(y)\n",
    "    elif(emotion=='sad'):\n",
    "        x=sp.recommendations( seed_genres=['metal'],  limit=1, country=None)\n",
    "        for i in range (1):\n",
    "            y=x['tracks'][i]['album']['external_urls']['spotify']\n",
    "            z=sp.album_tracks(y, limit=1)\n",
    "            #print(z['artists'])\n",
    "    elif(emotion=='neutral'):\n",
    "        x=sp.recommendations( seed_genres=['metal'],  limit=1, country=None)\n",
    "        for i in range (1):\n",
    "            y=x['tracks'][i]['album']['external_urls']['spotify']\n",
    "            z=sp.album_tracks(y, limit=1)\n",
    "            #print(z['artists'])\n",
    "    elif(emotion=='angry'):\n",
    "        x=sp.recommendations( seed_genres=['metal'],  limit=1, country=None)\n",
    "        for i in range (1):\n",
    "            y=x['tracks'][i]['album']['external_urls']['spotify']\n",
    "            z=sp.album_tracks(y, limit=1)\n",
    "            #print(z['artists'])\n",
    "    elif(emotion=='fear'):\n",
    "        x=sp.recommendations( seed_genres=['metal'],  limit=1, country=None)\n",
    "        for i in range (1):\n",
    "            y=x['tracks'][i]['album']['external_urls']['spotify']\n",
    "            z=sp.album_tracks(y, limit=1)\n",
    "            print(y)\n",
    "    elif(emotion=='surprise'):\n",
    "        x=sp.recommendations( seed_genres=['metal'],  limit=1, country=None)\n",
    "        for i in range (1):\n",
    "            y=x['tracks'][i]['album']['external_urls']['spotify']\n",
    "            z=sp.album_tracks(y, limit=1)\n",
    "            #print(z['artists'])\n",
    "    \n",
    "#from moodtape_functions import authenticate_spotify, aggregate_top_artists, aggregate_top_tracks, select_tracks, create_playlist\n",
    "\n"
   ]
  },
  {
   "cell_type": "code",
   "execution_count": 6,
   "metadata": {},
   "outputs": [
    {
     "ename": "AttributeError",
     "evalue": "module 'cv2' has no attribute 'data'",
     "output_type": "error",
     "traceback": [
      "\u001b[1;31m---------------------------------------------------------------------------\u001b[0m",
      "\u001b[1;31mAttributeError\u001b[0m                            Traceback (most recent call last)",
      "\u001b[1;32m<ipython-input-6-087f5e71284a>\u001b[0m in \u001b[0;36m<module>\u001b[1;34m\u001b[0m\n\u001b[0;32m     11\u001b[0m \u001b[1;31m#return sp\u001b[0m\u001b[1;33m\u001b[0m\u001b[1;33m\u001b[0m\u001b[1;33m\u001b[0m\u001b[0m\n\u001b[0;32m     12\u001b[0m \u001b[1;33m\u001b[0m\u001b[0m\n\u001b[1;32m---> 13\u001b[1;33m \u001b[0memotion\u001b[0m\u001b[1;33m=\u001b[0m \u001b[0mmood_predict\u001b[0m\u001b[1;33m(\u001b[0m\u001b[1;33m)\u001b[0m\u001b[1;33m\u001b[0m\u001b[1;33m\u001b[0m\u001b[0m\n\u001b[0m",
      "\u001b[1;32m<ipython-input-3-4664fe0a6180>\u001b[0m in \u001b[0;36mmood_predict\u001b[1;34m()\u001b[0m\n\u001b[0;32m     11\u001b[0m \u001b[1;32mdef\u001b[0m \u001b[0mmood_predict\u001b[0m\u001b[1;33m(\u001b[0m\u001b[1;33m)\u001b[0m\u001b[1;33m:\u001b[0m\u001b[1;33m\u001b[0m\u001b[1;33m\u001b[0m\u001b[0m\n\u001b[0;32m     12\u001b[0m \u001b[1;33m\u001b[0m\u001b[0m\n\u001b[1;32m---> 13\u001b[1;33m     \u001b[0mfacecascade\u001b[0m\u001b[1;33m=\u001b[0m\u001b[0mcv2\u001b[0m\u001b[1;33m.\u001b[0m\u001b[0mCascadeClassifier\u001b[0m\u001b[1;33m(\u001b[0m\u001b[0mcv2\u001b[0m\u001b[1;33m.\u001b[0m\u001b[0mdata\u001b[0m\u001b[1;33m.\u001b[0m\u001b[0mhaarcascades\u001b[0m \u001b[1;33m+\u001b[0m\u001b[1;34m'haarcascade_frontalface_default.xml'\u001b[0m\u001b[1;33m)\u001b[0m\u001b[1;33m\u001b[0m\u001b[1;33m\u001b[0m\u001b[0m\n\u001b[0m\u001b[0;32m     14\u001b[0m \u001b[1;33m\u001b[0m\u001b[0m\n\u001b[0;32m     15\u001b[0m     \u001b[0mcap\u001b[0m\u001b[1;33m=\u001b[0m\u001b[0mcv2\u001b[0m\u001b[1;33m.\u001b[0m\u001b[0mVideoCapture\u001b[0m\u001b[1;33m(\u001b[0m\u001b[1;36m1\u001b[0m\u001b[1;33m)\u001b[0m\u001b[1;33m\u001b[0m\u001b[1;33m\u001b[0m\u001b[0m\n",
      "\u001b[1;31mAttributeError\u001b[0m: module 'cv2' has no attribute 'data'"
     ]
    }
   ],
   "source": [
    "client_id = \"096258847d774525be3f933cb786cd14\"\n",
    "client_secret = \"7e74614aaaa244119c5d3619ea3d5a70\"\n",
    "redirect_uri = \"http://localhost:8861/callback\"\n",
    "\n",
    "scope = 'user-library-read user-top-read playlist-modify-public user-follow-read'\n",
    "\n",
    "username = \"ABD VK\"\n",
    "token = util.prompt_for_user_token(username, scope, client_id, client_secret, redirect_uri)\n",
    "\n",
    "sp = spotipy.Spotify(auth=token)\n",
    "#return sp\n",
    "\n",
    "emotion= mood_predict()\n"
   ]
  },
  {
   "cell_type": "code",
   "execution_count": 67,
   "metadata": {},
   "outputs": [
    {
     "name": "stdout",
     "output_type": "stream",
     "text": [
      "https://open.spotify.com/album/4371FJEyPOmAcfcKlXurHW\n"
     ]
    }
   ],
   "source": [
    "select_tracks(emotion)\n",
    "#import webbrowser\n",
    "#sys.audit(\"webbrowser.open\", a)"
   ]
  },
  {
   "cell_type": "code",
   "execution_count": null,
   "metadata": {},
   "outputs": [],
   "source": []
  }
 ],
 "metadata": {
  "kernelspec": {
   "display_name": "Python 3",
   "language": "python",
   "name": "python3"
  },
  "language_info": {
   "codemirror_mode": {
    "name": "ipython",
    "version": 3
   },
   "file_extension": ".py",
   "mimetype": "text/x-python",
   "name": "python",
   "nbconvert_exporter": "python",
   "pygments_lexer": "ipython3",
   "version": "3.8.3"
  }
 },
 "nbformat": 4,
 "nbformat_minor": 4
}
