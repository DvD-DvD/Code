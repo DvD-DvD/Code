{
 "cells": [
  {
   "cell_type": "code",
   "execution_count": 8,
   "metadata": {},
   "outputs": [
    {
     "ename": "ImportError",
     "evalue": "C extension: No module named 'pandas._libs.interval' not built. If you want to import pandas from the source directory, you may need to run 'python setup.py build_ext --force' to build the C extensions first.",
     "output_type": "error",
     "traceback": [
      "\u001b[1;31m---------------------------------------------------------------------------\u001b[0m",
      "\u001b[1;31mModuleNotFoundError\u001b[0m                       Traceback (most recent call last)",
      "\u001b[1;32mD:\\Anadconda\\envs\\myenv\\lib\\site-packages\\pandas\\__init__.py\u001b[0m in \u001b[0;36m<module>\u001b[1;34m\u001b[0m\n\u001b[0;32m     28\u001b[0m \u001b[1;32mtry\u001b[0m\u001b[1;33m:\u001b[0m\u001b[1;33m\u001b[0m\u001b[1;33m\u001b[0m\u001b[0m\n\u001b[1;32m---> 29\u001b[1;33m     \u001b[1;32mfrom\u001b[0m \u001b[0mpandas\u001b[0m\u001b[1;33m.\u001b[0m\u001b[0m_libs\u001b[0m \u001b[1;32mimport\u001b[0m \u001b[0mhashtable\u001b[0m \u001b[1;32mas\u001b[0m \u001b[0m_hashtable\u001b[0m\u001b[1;33m,\u001b[0m \u001b[0mlib\u001b[0m \u001b[1;32mas\u001b[0m \u001b[0m_lib\u001b[0m\u001b[1;33m,\u001b[0m \u001b[0mtslib\u001b[0m \u001b[1;32mas\u001b[0m \u001b[0m_tslib\u001b[0m\u001b[1;33m\u001b[0m\u001b[1;33m\u001b[0m\u001b[0m\n\u001b[0m\u001b[0;32m     30\u001b[0m \u001b[1;32mexcept\u001b[0m \u001b[0mImportError\u001b[0m \u001b[1;32mas\u001b[0m \u001b[0me\u001b[0m\u001b[1;33m:\u001b[0m  \u001b[1;31m# pragma: no cover\u001b[0m\u001b[1;33m\u001b[0m\u001b[1;33m\u001b[0m\u001b[0m\n",
      "\u001b[1;32mD:\\Anadconda\\envs\\myenv\\lib\\site-packages\\pandas\\_libs\\__init__.py\u001b[0m in \u001b[0;36m<module>\u001b[1;34m\u001b[0m\n\u001b[0;32m     12\u001b[0m \u001b[1;33m\u001b[0m\u001b[0m\n\u001b[1;32m---> 13\u001b[1;33m \u001b[1;32mfrom\u001b[0m \u001b[0mpandas\u001b[0m\u001b[1;33m.\u001b[0m\u001b[0m_libs\u001b[0m\u001b[1;33m.\u001b[0m\u001b[0minterval\u001b[0m \u001b[1;32mimport\u001b[0m \u001b[0mInterval\u001b[0m\u001b[1;33m\u001b[0m\u001b[1;33m\u001b[0m\u001b[0m\n\u001b[0m\u001b[0;32m     14\u001b[0m from pandas._libs.tslibs import (\n",
      "\u001b[1;31mModuleNotFoundError\u001b[0m: No module named 'pandas._libs.interval'",
      "\nThe above exception was the direct cause of the following exception:\n",
      "\u001b[1;31mImportError\u001b[0m                               Traceback (most recent call last)",
      "\u001b[1;32m<ipython-input-8-b0e730f9cceb>\u001b[0m in \u001b[0;36m<module>\u001b[1;34m\u001b[0m\n\u001b[0;32m      8\u001b[0m \u001b[1;33m\u001b[0m\u001b[0m\n\u001b[0;32m      9\u001b[0m \u001b[1;33m\u001b[0m\u001b[0m\n\u001b[1;32m---> 10\u001b[1;33m \u001b[1;32mfrom\u001b[0m \u001b[0mdeepface\u001b[0m \u001b[1;32mimport\u001b[0m \u001b[0mDeepFace\u001b[0m\u001b[1;33m\u001b[0m\u001b[1;33m\u001b[0m\u001b[0m\n\u001b[0m\u001b[0;32m     11\u001b[0m \u001b[1;32mdef\u001b[0m \u001b[0mmood_predict\u001b[0m\u001b[1;33m(\u001b[0m\u001b[1;33m)\u001b[0m\u001b[1;33m:\u001b[0m\u001b[1;33m\u001b[0m\u001b[1;33m\u001b[0m\u001b[0m\n\u001b[0;32m     12\u001b[0m \u001b[1;33m\u001b[0m\u001b[0m\n",
      "\u001b[1;32mD:\\Anadconda\\envs\\myenv\\lib\\site-packages\\deepface\\DeepFace.py\u001b[0m in \u001b[0;36m<module>\u001b[1;34m\u001b[0m\n\u001b[0;32m      5\u001b[0m \u001b[1;32mfrom\u001b[0m \u001b[0mos\u001b[0m \u001b[1;32mimport\u001b[0m \u001b[0mpath\u001b[0m\u001b[1;33m\u001b[0m\u001b[1;33m\u001b[0m\u001b[0m\n\u001b[0;32m      6\u001b[0m \u001b[1;32mimport\u001b[0m \u001b[0mnumpy\u001b[0m \u001b[1;32mas\u001b[0m \u001b[0mnp\u001b[0m\u001b[1;33m\u001b[0m\u001b[1;33m\u001b[0m\u001b[0m\n\u001b[1;32m----> 7\u001b[1;33m \u001b[1;32mimport\u001b[0m \u001b[0mpandas\u001b[0m \u001b[1;32mas\u001b[0m \u001b[0mpd\u001b[0m\u001b[1;33m\u001b[0m\u001b[1;33m\u001b[0m\u001b[0m\n\u001b[0m\u001b[0;32m      8\u001b[0m \u001b[1;32mfrom\u001b[0m \u001b[0mtqdm\u001b[0m \u001b[1;32mimport\u001b[0m \u001b[0mtqdm\u001b[0m\u001b[1;33m\u001b[0m\u001b[1;33m\u001b[0m\u001b[0m\n\u001b[0;32m      9\u001b[0m \u001b[1;32mimport\u001b[0m \u001b[0mpickle\u001b[0m\u001b[1;33m\u001b[0m\u001b[1;33m\u001b[0m\u001b[0m\n",
      "\u001b[1;32mD:\\Anadconda\\envs\\myenv\\lib\\site-packages\\pandas\\__init__.py\u001b[0m in \u001b[0;36m<module>\u001b[1;34m\u001b[0m\n\u001b[0;32m     31\u001b[0m     \u001b[1;31m# hack but overkill to use re\u001b[0m\u001b[1;33m\u001b[0m\u001b[1;33m\u001b[0m\u001b[1;33m\u001b[0m\u001b[0m\n\u001b[0;32m     32\u001b[0m     \u001b[0mmodule\u001b[0m \u001b[1;33m=\u001b[0m \u001b[0mstr\u001b[0m\u001b[1;33m(\u001b[0m\u001b[0me\u001b[0m\u001b[1;33m)\u001b[0m\u001b[1;33m.\u001b[0m\u001b[0mreplace\u001b[0m\u001b[1;33m(\u001b[0m\u001b[1;34m\"cannot import name \"\u001b[0m\u001b[1;33m,\u001b[0m \u001b[1;34m\"\"\u001b[0m\u001b[1;33m)\u001b[0m\u001b[1;33m\u001b[0m\u001b[1;33m\u001b[0m\u001b[0m\n\u001b[1;32m---> 33\u001b[1;33m     raise ImportError(\n\u001b[0m\u001b[0;32m     34\u001b[0m         \u001b[1;34mf\"C extension: {module} not built. If you want to import \"\u001b[0m\u001b[1;33m\u001b[0m\u001b[1;33m\u001b[0m\u001b[0m\n\u001b[0;32m     35\u001b[0m         \u001b[1;34m\"pandas from the source directory, you may need to run \"\u001b[0m\u001b[1;33m\u001b[0m\u001b[1;33m\u001b[0m\u001b[0m\n",
      "\u001b[1;31mImportError\u001b[0m: C extension: No module named 'pandas._libs.interval' not built. If you want to import pandas from the source directory, you may need to run 'python setup.py build_ext --force' to build the C extensions first."
     ]
    }
   ],
   "source": [
    "import cv2\n",
    "    \n",
    "import sys\n",
    "import spotipy\n",
    "import spotipy.util as util\n",
    "\n",
    "import random\n",
    "\n",
    "\n",
    "from deepface import DeepFace\n",
    "def mood_predict():\n",
    "    \n",
    "    facecascade=cv2.CascadeClassifier('haarcascade_frontalface_default.xml')\n",
    "    \n",
    "    cap=cv2.VideoCapture(1)\n",
    "    if not cap.isOpened():\n",
    "        cap=cv2.VideoCapture(0)\n",
    "    if not cap.isOpened():\n",
    "        raise IOError('Cannot open webcam')\n",
    "        \n",
    "    while True:\n",
    "        ret,frame=cap.read()\n",
    "        \n",
    "        result=DeepFace.analyze(frame,actions=['emotion'])\n",
    "        \n",
    "        gray= cv2.cvtColor(frame,cv2.COLOR_BGR2GRAY)\n",
    "        \n",
    "        faces=facecascade.detectMultiScale(gray,1.1,4)\n",
    "        \n",
    "        for (x,y,w,h) in faces:\n",
    "            cv2.rectangle(frame,(x,y),(x+w,y+h),(0,255,0),2)\n",
    "        \n",
    "        font=cv2.FONT_HERSHEY_SIMPLEX\n",
    "    \n",
    "        cv2.putText(frame,result['dominant_emotion'],(100,100),font,5,(0,0,255),2,cv2.LINE_4)\n",
    "        \n",
    "        cv2.imshow(\"original\",frame)\n",
    "        \n",
    "        if cv2.waitKey(2) & 0xFF== ord('q'):\n",
    "            break\n",
    "            \n",
    "    cap.release()\n",
    "    cv2.waitKey(0)\n",
    "    cv2.destroyAllWindows()\n",
    "    \n",
    "    print( result['dominant_emotion'])\n",
    "    return( result['dominant_emotion'])\n",
    "def select_tracks(emotion):\n",
    "    if(emotion=='happy'):\n",
    "        x=sp.recommendations( seed_genres=['happy'],  limit=1, country=None)\n",
    "        for i in range (1):\n",
    "            y=x['tracks'][i]['album']['external_urls']['spotify']\n",
    "            z=sp.album_tracks(y, limit=1)\n",
    "            print(y)\n",
    "    elif(emotion=='sad'):\n",
    "        x=sp.recommendations( seed_genres=['metal'],  limit=1, country=None)\n",
    "        for i in range (1):\n",
    "            y=x['tracks'][i]['album']['external_urls']['spotify']\n",
    "            z=sp.album_tracks(y, limit=1)\n",
    "            #print(z['artists'])\n",
    "    elif(emotion=='neutral'):\n",
    "        x=sp.recommendations( seed_genres=['metal'],  limit=1, country=None)\n",
    "        for i in range (1):\n",
    "            y=x['tracks'][i]['album']['external_urls']['spotify']\n",
    "            z=sp.album_tracks(y, limit=1)\n",
    "            #print(z['artists'])\n",
    "    elif(emotion=='angry'):\n",
    "        x=sp.recommendations( seed_genres=['metal'],  limit=1, country=None)\n",
    "        for i in range (1):\n",
    "            y=x['tracks'][i]['album']['external_urls']['spotify']\n",
    "            z=sp.album_tracks(y, limit=1)\n",
    "            #print(z['artists'])\n",
    "    elif(emotion=='fear'):\n",
    "        x=sp.recommendations( seed_genres=['metal'],  limit=1, country=None)\n",
    "        for i in range (1):\n",
    "            y=x['tracks'][i]['album']['external_urls']['spotify']\n",
    "            z=sp.album_tracks(y, limit=1)\n",
    "            print(y)\n",
    "    elif(emotion=='surprise'):\n",
    "        x=sp.recommendations( seed_genres=['metal'],  limit=1, country=None)\n",
    "        for i in range (1):\n",
    "            y=x['tracks'][i]['album']['external_urls']['spotify']\n",
    "            z=sp.album_tracks(y, limit=1)\n",
    "            #print(z['artists'])\n",
    "    \n",
    "#from moodtape_functions import authenticate_spotify, aggregate_top_artists, aggregate_top_tracks, select_tracks, create_playlist\n",
    "\n"
   ]
  },
  {
   "cell_type": "code",
   "execution_count": 6,
   "metadata": {},
   "outputs": [
    {
     "ename": "AttributeError",
     "evalue": "module 'cv2' has no attribute 'data'",
     "output_type": "error",
     "traceback": [
      "\u001b[1;31m---------------------------------------------------------------------------\u001b[0m",
      "\u001b[1;31mAttributeError\u001b[0m                            Traceback (most recent call last)",
      "\u001b[1;32m<ipython-input-6-087f5e71284a>\u001b[0m in \u001b[0;36m<module>\u001b[1;34m\u001b[0m\n\u001b[0;32m     11\u001b[0m \u001b[1;31m#return sp\u001b[0m\u001b[1;33m\u001b[0m\u001b[1;33m\u001b[0m\u001b[1;33m\u001b[0m\u001b[0m\n\u001b[0;32m     12\u001b[0m \u001b[1;33m\u001b[0m\u001b[0m\n\u001b[1;32m---> 13\u001b[1;33m \u001b[0memotion\u001b[0m\u001b[1;33m=\u001b[0m \u001b[0mmood_predict\u001b[0m\u001b[1;33m(\u001b[0m\u001b[1;33m)\u001b[0m\u001b[1;33m\u001b[0m\u001b[1;33m\u001b[0m\u001b[0m\n\u001b[0m",
      "\u001b[1;32m<ipython-input-3-4664fe0a6180>\u001b[0m in \u001b[0;36mmood_predict\u001b[1;34m()\u001b[0m\n\u001b[0;32m     11\u001b[0m \u001b[1;32mdef\u001b[0m \u001b[0mmood_predict\u001b[0m\u001b[1;33m(\u001b[0m\u001b[1;33m)\u001b[0m\u001b[1;33m:\u001b[0m\u001b[1;33m\u001b[0m\u001b[1;33m\u001b[0m\u001b[0m\n\u001b[0;32m     12\u001b[0m \u001b[1;33m\u001b[0m\u001b[0m\n\u001b[1;32m---> 13\u001b[1;33m     \u001b[0mfacecascade\u001b[0m\u001b[1;33m=\u001b[0m\u001b[0mcv2\u001b[0m\u001b[1;33m.\u001b[0m\u001b[0mCascadeClassifier\u001b[0m\u001b[1;33m(\u001b[0m\u001b[0mcv2\u001b[0m\u001b[1;33m.\u001b[0m\u001b[0mdata\u001b[0m\u001b[1;33m.\u001b[0m\u001b[0mhaarcascades\u001b[0m \u001b[1;33m+\u001b[0m\u001b[1;34m'haarcascade_frontalface_default.xml'\u001b[0m\u001b[1;33m)\u001b[0m\u001b[1;33m\u001b[0m\u001b[1;33m\u001b[0m\u001b[0m\n\u001b[0m\u001b[0;32m     14\u001b[0m \u001b[1;33m\u001b[0m\u001b[0m\n\u001b[0;32m     15\u001b[0m     \u001b[0mcap\u001b[0m\u001b[1;33m=\u001b[0m\u001b[0mcv2\u001b[0m\u001b[1;33m.\u001b[0m\u001b[0mVideoCapture\u001b[0m\u001b[1;33m(\u001b[0m\u001b[1;36m1\u001b[0m\u001b[1;33m)\u001b[0m\u001b[1;33m\u001b[0m\u001b[1;33m\u001b[0m\u001b[0m\n",
      "\u001b[1;31mAttributeError\u001b[0m: module 'cv2' has no attribute 'data'"
     ]
    }
   ],
   "source": [
    "client_id = \"096258847d774525be3f933cb786cd14\"\n",
    "client_secret = \"7e74614aaaa244119c5d3619ea3d5a70\"\n",
    "redirect_uri = \"http://localhost:8861/callback\"\n",
    "\n",
    "scope = 'user-library-read user-top-read playlist-modify-public user-follow-read'\n",
    "\n",
    "username = \"ABD VK\"\n",
    "token = util.prompt_for_user_token(username, scope, client_id, client_secret, redirect_uri)\n",
    "\n",
    "sp = spotipy.Spotify(auth=token)\n",
    "#return sp\n",
    "\n",
    "emotion= mood_predict()\n"
   ]
  },
  {
   "cell_type": "code",
   "execution_count": 67,
   "metadata": {},
   "outputs": [
    {
     "name": "stdout",
     "output_type": "stream",
     "text": [
      "https://open.spotify.com/album/4371FJEyPOmAcfcKlXurHW\n"
     ]
    }
   ],
   "source": [
    "select_tracks(emotion)\n",
    "#import webbrowser\n",
    "#sys.audit(\"webbrowser.open\", a)"
   ]
  },
  {
   "cell_type": "code",
   "execution_count": null,
   "metadata": {},
   "outputs": [],
   "source": []
  }
 ],
 "metadata": {
  "kernelspec": {
   "display_name": "Python 3",
   "language": "python",
   "name": "python3"
  },
  "language_info": {
   "codemirror_mode": {
    "name": "ipython",
    "version": 3
   },
   "file_extension": ".py",
   "mimetype": "text/x-python",
   "name": "python",
   "nbconvert_exporter": "python",
   "pygments_lexer": "ipython3",
   "version": "3.9.1"
  }
 },
 "nbformat": 4,
 "nbformat_minor": 4
}
